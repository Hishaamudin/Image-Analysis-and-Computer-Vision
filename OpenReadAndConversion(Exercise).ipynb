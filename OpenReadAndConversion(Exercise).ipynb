{
 "cells": [
  {
   "attachments": {},
   "cell_type": "markdown",
   "metadata": {},
   "source": [
    "1.Open and Read an Image in grayscale ,BGR format and display the shape of image.\n"
   ]
  },
  {
   "cell_type": "code",
   "execution_count": 39,
   "metadata": {},
   "outputs": [
    {
     "name": "stdout",
     "output_type": "stream",
     "text": [
      "Image shape: (651, 515, 3)\n"
     ]
    }
   ],
   "source": [
    "import cv2 #import the library \n",
    "img = cv2.imread(\"pic.png\",cv2.IMREAD_COLOR) #reads the image\n",
    "print(\"Image shape:\",img.shape) #print shape of the image \n",
    "cv2.imshow(\"image\",img) #display the image\n",
    "cv2.waitKey(0)\n",
    "cv2.destroyAllWindows() #close window"
   ]
  },
  {
   "cell_type": "code",
   "execution_count": 40,
   "metadata": {},
   "outputs": [
    {
     "name": "stdout",
     "output_type": "stream",
     "text": [
      "Grayscale Image Shape: (651, 515)\n"
     ]
    }
   ],
   "source": [
    "img_gray = cv2.imread('pic.png', cv2.IMREAD_GRAYSCALE) #read the image in grayscale\n",
    "print(\"Grayscale Image Shape:\", img_gray.shape)\n",
    "\n",
    "cv2.imshow('imagegray',img_gray)\n",
    "cv2.waitKey(0)\n",
    "cv2.destroyAllWindows()"
   ]
  },
  {
   "attachments": {},
   "cell_type": "markdown",
   "metadata": {},
   "source": [
    "2.Convert the BGR color to RGB color format and display the shape of the image "
   ]
  },
  {
   "cell_type": "code",
   "execution_count": 41,
   "metadata": {},
   "outputs": [
    {
     "name": "stdout",
     "output_type": "stream",
     "text": [
      "BGR Image Shape: (651, 515, 3)\n"
     ]
    }
   ],
   "source": [
    "# Read the image in BGR format\n",
    "img_bgr = cv2.imread('pic.png', cv2.IMREAD_COLOR)\n",
    "print(\"BGR Image Shape:\", img_bgr.shape)\n",
    "\n",
    "# Display the image\n",
    "cv2.imshow('BGR Image', img_bgr)\n",
    "cv2.waitKey(0)\n",
    "cv2.destroyAllWindows()"
   ]
  },
  {
   "cell_type": "code",
   "execution_count": 42,
   "metadata": {},
   "outputs": [
    {
     "name": "stdout",
     "output_type": "stream",
     "text": [
      "RGB Image Shape: (651, 515, 3)\n"
     ]
    }
   ],
   "source": [
    "# Convert BGR to RGB format\n",
    "img_rgb = cv2.cvtColor(img_bgr, cv2.COLOR_BGR2RGB)\n",
    "print(\"RGB Image Shape:\", img_rgb.shape)\n",
    "cv2.imshow('RGB Image', img_rgb)\n",
    "cv2.waitKey(0)\n",
    "cv2.destroyAllWindows()"
   ]
  },
  {
   "attachments": {},
   "cell_type": "markdown",
   "metadata": {},
   "source": [
    "3.Get color image and save it as Grayscale image using OPencv"
   ]
  },
  {
   "cell_type": "code",
   "execution_count": 43,
   "metadata": {},
   "outputs": [
    {
     "data": {
      "text/plain": [
       "True"
      ]
     },
     "execution_count": 43,
     "metadata": {},
     "output_type": "execute_result"
    }
   ],
   "source": [
    "cv2.imwrite(\"genImage.png\",img_gray)"
   ]
  },
  {
   "attachments": {},
   "cell_type": "markdown",
   "metadata": {},
   "source": [
    "4.Get RGB image and split and display the Red,Green and Blue colored image seperately."
   ]
  },
  {
   "cell_type": "code",
   "execution_count": 36,
   "metadata": {},
   "outputs": [],
   "source": [
    "b,g,r = cv2.split(img)\n",
    "\n",
    "cv2.imshow(\"blueimage\",b)\n",
    "cv2.waitKey(0)\n",
    "cv2.destroyAllWindows()"
   ]
  },
  {
   "cell_type": "code",
   "execution_count": 37,
   "metadata": {},
   "outputs": [],
   "source": [
    "cv2.imshow(\"blueimage\",g)\n",
    "cv2.waitKey(0)\n",
    "cv2.destroyAllWindows()"
   ]
  },
  {
   "cell_type": "code",
   "execution_count": 38,
   "metadata": {},
   "outputs": [],
   "source": [
    "cv2.imshow(\"blueimage\",r)\n",
    "cv2.waitKey(0)\n",
    "cv2.destroyAllWindows()"
   ]
  }
 ],
 "metadata": {
  "kernelspec": {
   "display_name": "Python 3",
   "language": "python",
   "name": "python3"
  },
  "language_info": {
   "codemirror_mode": {
    "name": "ipython",
    "version": 3
   },
   "file_extension": ".py",
   "mimetype": "text/x-python",
   "name": "python",
   "nbconvert_exporter": "python",
   "pygments_lexer": "ipython3",
   "version": "3.10.11"
  },
  "orig_nbformat": 4
 },
 "nbformat": 4,
 "nbformat_minor": 2
}
