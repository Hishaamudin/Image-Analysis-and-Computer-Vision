{
 "cells": [
  {
   "attachments": {},
   "cell_type": "markdown",
   "metadata": {},
   "source": [
    "Write program to implement Bitwise Operations on Binary Images (AND, OR, XOR)."
   ]
  },
  {
   "cell_type": "code",
   "execution_count": 1,
   "metadata": {},
   "outputs": [],
   "source": [
    "import cv2 \n",
    "import numpy as np\n",
    "image1 = cv2.imread('i.jpg',0)  \n",
    "image2 = cv2.imread('i1.jpg',0)  \n",
    "result_and = cv2.bitwise_and(image1, image2)\n",
    "result_or = cv2.bitwise_or(image1, image2)\n",
    "result_xor = cv2.bitwise_xor(image1, image2)\n",
    "cv2.imshow('Bitwise AND', result_and)\n",
    "cv2.imshow('Bitwise OR', result_or)\n",
    "cv2.imshow('Bitwise XOR', result_xor)\n",
    "cv2.waitKey(0)\n",
    "cv2.destroyAllWindows()\n"
   ]
  },
  {
   "attachments": {},
   "cell_type": "markdown",
   "metadata": {},
   "source": [
    "Write a program to resize the image(scaling) using nearest neighbour, bilinear and bicubic interpolation. Print the old and new image shape"
   ]
  },
  {
   "cell_type": "code",
   "execution_count": 2,
   "metadata": {},
   "outputs": [
    {
     "name": "stdout",
     "output_type": "stream",
     "text": [
      "Old Image Shape: (275, 183, 3)\n",
      "Nearest Neighbor Interpolation Image Shape: (138, 92, 3)\n",
      "Bilinear Interpolation Image Shape: (138, 92, 3)\n",
      "Bicubic Interpolation Image Shape: (138, 92, 3)\n"
     ]
    }
   ],
   "source": [
    "import cv2\n",
    "image = cv2.imread('image1.jpg')\n",
    "print(\"Old Image Shape:\", image.shape)\n",
    "nearest_neighbor = cv2.resize(image, None, fx=0.5, fy=0.5, interpolation=cv2.INTER_NEAREST)\n",
    "print(\"Nearest Neighbor Interpolation Image Shape:\", nearest_neighbor.shape)\n",
    "bilinear = cv2.resize(image, None, fx=0.5, fy=0.5, interpolation=cv2.INTER_LINEAR)\n",
    "print(\"Bilinear Interpolation Image Shape:\", bilinear.shape)\n",
    "bicubic = cv2.resize(image, None, fx=0.5, fy=0.5, interpolation=cv2.INTER_CUBIC)\n",
    "print(\"Bicubic Interpolation Image Shape:\", bicubic.shape)\n",
    "cv2.imshow('Nearest Neighbor Interpolation', nearest_neighbor)\n",
    "cv2.imshow('Bilinear Interpolation', bilinear)\n",
    "cv2.imshow('Bicubic Interpolation', bicubic)\n",
    "cv2.waitKey(0)\n",
    "cv2.destroyAllWindows()\n"
   ]
  },
  {
   "attachments": {},
   "cell_type": "markdown",
   "metadata": {},
   "source": [
    "Write a program to blur the image using Average blur, Gaussian Blur and Median blur.\n"
   ]
  },
  {
   "cell_type": "code",
   "execution_count": 15,
   "metadata": {},
   "outputs": [],
   "source": [
    "import cv2\n",
    "image = cv2.imread('image1.jpg')\n",
    "average_blur = cv2.blur(image, (5, 5))\n",
    "gaussian_blur = cv2.GaussianBlur(image, (5, 5), 0)\n",
    "median_blur = cv2.medianBlur(image, 5)\n",
    "cv2.imshow('Average Blur', average_blur)\n",
    "cv2.imshow('Gaussian Blur', gaussian_blur)\n",
    "cv2.imshow('Median Blur', median_blur)\n",
    "cv2.waitKey(0)\n",
    "cv2.destroyAllWindows()\n"
   ]
  },
  {
   "attachments": {},
   "cell_type": "markdown",
   "metadata": {},
   "source": [
    "Write a program to perform rotating, edge detection and shifting the image"
   ]
  },
  {
   "cell_type": "code",
   "execution_count": 16,
   "metadata": {},
   "outputs": [],
   "source": [
    "import cv2\n",
    "import numpy as np\n",
    "image = cv2.imread('i1.jpg')\n",
    "rows, cols = image.shape[:2]\n",
    "rotation_matrix = cv2.getRotationMatrix2D((cols / 2, rows / 2), 45, 1)\n",
    "rotated_image = cv2.warpAffine(image, rotation_matrix, (cols, rows)) #rotate \n",
    "\n",
    "gray_image = cv2.cvtColor(image, cv2.COLOR_BGR2GRAY)\n",
    "edges = cv2.Canny(gray_image, 100, 200) # edge \n",
    "shift_matrix = np.float32([[1, 0, 50], [0, 1, 50]]) \n",
    "shifted_image = cv2.warpAffine(image, shift_matrix, (cols, rows))\n",
    "cv2.imshow('Original Image', image)\n",
    "cv2.imshow('Rotated Image', rotated_image)\n",
    "cv2.imshow('Edges', edges)\n",
    "cv2.imshow('Shifted Image', shifted_image)\n",
    "cv2.waitKey(0)\n",
    "cv2.destroyAllWindows()\n"
   ]
  }
 ],
 "metadata": {
  "kernelspec": {
   "display_name": "Python 3",
   "language": "python",
   "name": "python3"
  },
  "language_info": {
   "codemirror_mode": {
    "name": "ipython",
    "version": 3
   },
   "file_extension": ".py",
   "mimetype": "text/x-python",
   "name": "python",
   "nbconvert_exporter": "python",
   "pygments_lexer": "ipython3",
   "version": "3.10.11"
  },
  "orig_nbformat": 4
 },
 "nbformat": 4,
 "nbformat_minor": 2
}
