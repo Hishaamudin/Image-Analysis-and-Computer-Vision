{
 "cells": [
  {
   "cell_type": "markdown",
   "metadata": {},
   "source": [
    "                                        Exercise 03\n",
    "                \n",
    "            Implementation of Image Enhancement techniques like sharpening and thresholding"
   ]
  },
  {
   "cell_type": "markdown",
   "metadata": {},
   "source": [
    "Write a program for adjusting the brightness and contrast of the image. Print the intensity changes."
   ]
  },
  {
   "cell_type": "code",
   "execution_count": 2,
   "metadata": {},
   "outputs": [
    {
     "name": "stdout",
     "output_type": "stream",
     "text": [
      "Brightness change: 127\n",
      "Contrast change: 561\n"
     ]
    }
   ],
   "source": [
    "import cv2\n",
    "import numpy as np\n",
    "\n",
    "def adjust_brightness_contrast(image, brightness, contrast):\n",
    "    # Create a blank array with the same shape as the input image\n",
    "    adjusted_image = np.zeros(image.shape, dtype=np.uint8)\n",
    "\n",
    "    # Calculate the intensity changes for brightness and contrast\n",
    "    brightness_change = int(brightness * 255)\n",
    "    contrast_change = int((contrast + 1) * 255)\n",
    "\n",
    "    # Adjust the intensity of each pixel\n",
    "    for i in range(image.shape[0]):\n",
    "        for j in range(image.shape[1]):\n",
    "            for k in range(image.shape[2]):\n",
    "                new_intensity = image[i, j, k] * contrast + brightness_change\n",
    "                adjusted_image[i, j, k] = np.clip(new_intensity, 0, 255)\n",
    "\n",
    "    return adjusted_image, brightness_change, contrast_change\n",
    "\n",
    "def main():\n",
    "    # Load the image\n",
    "    image_path = 'pic.png'\n",
    "    original_image = cv2.imread(image_path)\n",
    "\n",
    "    # Set the desired brightness and contrast values (positive values increase, negative decrease)\n",
    "    brightness = 0.5\n",
    "    contrast = 1.2\n",
    "\n",
    "    # Adjust the brightness and contrast\n",
    "    adjusted_image, brightness_change, contrast_change = adjust_brightness_contrast(original_image, brightness, contrast)\n",
    "\n",
    "    # Print the intensity changes\n",
    "    print(f\"Brightness change: {brightness_change}\")\n",
    "    print(f\"Contrast change: {contrast_change}\")\n",
    "\n",
    "    # Display the original and adjusted images\n",
    "    cv2.imshow('Original Image', original_image)\n",
    "    cv2.imshow('Adjusted Image', adjusted_image)\n",
    "    cv2.waitKey(0)\n",
    "    cv2.destroyAllWindows()\n",
    "\n",
    "if __name__ == \"__main__\":\n",
    "    main()\n"
   ]
  },
  {
   "cell_type": "markdown",
   "metadata": {},
   "source": [
    "Write a program to sharpen the image."
   ]
  },
  {
   "cell_type": "code",
   "execution_count": 6,
   "metadata": {},
   "outputs": [],
   "source": [
    "import cv2\n",
    "import numpy as np\n",
    "def sharpen_image(image, strength):\n",
    "    # Create a blurred version of the image\n",
    "    blurred_image = cv2.GaussianBlur(image, (0, 0), strength)\n",
    "    # Calculate the sharpened image by subtracting the blurred image from the original\n",
    "    sharpened_image = cv2.addWeighted(image, 1.5, blurred_image, -0.5, 0)\n",
    "    return sharpened_image\n",
    "def main():\n",
    "    image_path = 'pic.png' \n",
    "    image = cv2.imread(image_path)\n",
    "    # Check if the image was loaded successfully\n",
    "    if image is None:\n",
    "        print(\"Error: Unable to load image.\")\n",
    "        return\n",
    "    # Get user input for the strength of sharpening\n",
    "    strength = float(input(\"Enter the strength of sharpening (e.g., 0.1 to 3.0): \"))\n",
    "    # Perform image sharpening\n",
    "    sharpened_image = sharpen_image(image, strength)\n",
    "    # Display the original and sharpened images side by side\n",
    "    cv2.imshow('Original Image', image)\n",
    "    cv2.imshow('Sharpened Image', sharpened_image)\n",
    "    cv2.waitKey(0)\n",
    "    cv2.destroyAllWindows()\n",
    "if __name__ == \"__main__\":\n",
    "    main()"
   ]
  },
  {
   "cell_type": "markdown",
   "metadata": {},
   "source": [
    "Write a program to perform image thresholding  i) Simple Thresholding ii) Adaptive Thresholding iii) Otsu Thresholding"
   ]
  },
  {
   "cell_type": "code",
   "execution_count": 7,
   "metadata": {},
   "outputs": [],
   "source": [
    "import cv2\n",
    "import numpy as np\n",
    "def simple_thresholding(image, threshold_value):\n",
    "    _, thresholded_image = cv2.threshold(image, threshold_value, 255, cv2.THRESH_BINARY)\n",
    "    return thresholded_image\n",
    "def adaptive_thresholding(image, block_size, constant_value):\n",
    "    thresholded_image = cv2.adaptiveThreshold(image, 255, cv2.ADAPTIVE_THRESH_GAUSSIAN_C, cv2.THRESH_BINARY, block_size, constant_value)\n",
    "    return thresholded_image\n",
    "def otsu_thresholding(image):\n",
    "    _, thresholded_image = cv2.threshold(image, 0, 255, cv2.THRESH_BINARY + cv2.THRESH_OTSU)\n",
    "    return thresholded_image\n",
    "def main():\n",
    "    image_path = 'pic.png'\n",
    "    image = cv2.imread(image_path, 0)\n",
    "    # Check if the image was loaded successfully\n",
    "    if image is None:\n",
    "        print(\"Error: Unable to load image.\")\n",
    "        return\n",
    "    # Perform Simple Thresholding\n",
    "    threshold_value = 128\n",
    "    simple_thresholded_image = simple_thresholding(image, threshold_value)\n",
    "    # Perform Adaptive Thresholding\n",
    "    block_size = 15\n",
    "    constant_value = 8\n",
    "    adaptive_thresholded_image = adaptive_thresholding(image, block_size, constant_value)\n",
    "    # Perform Otsu Thresholding\n",
    "    otsu_thresholded_image = otsu_thresholding(image)\n",
    "    # Display the original and thresholded images side by side\n",
    "    cv2.imshow('Original Image', image)\n",
    "    cv2.imshow('Simple Thresholding', simple_thresholded_image)\n",
    "    cv2.imshow('Adaptive Thresholding', adaptive_thresholded_image)\n",
    "    cv2.imshow('Otsu Thresholding', otsu_thresholded_image)\n",
    "    cv2.waitKey(0)\n",
    "    cv2.destroyAllWindows()\n",
    "if __name__ == \"__main__\":\n",
    "    main()"
   ]
  }
 ],
 "metadata": {
  "kernelspec": {
   "display_name": "Python 3",
   "language": "python",
   "name": "python3"
  },
  "language_info": {
   "codemirror_mode": {
    "name": "ipython",
    "version": 3
   },
   "file_extension": ".py",
   "mimetype": "text/x-python",
   "name": "python",
   "nbconvert_exporter": "python",
   "pygments_lexer": "ipython3",
   "version": "3.10.11"
  },
  "orig_nbformat": 4
 },
 "nbformat": 4,
 "nbformat_minor": 2
}
